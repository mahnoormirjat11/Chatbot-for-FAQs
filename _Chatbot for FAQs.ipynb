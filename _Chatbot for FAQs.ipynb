{
 "cells": [
  {
   "cell_type": "raw",
   "id": "29804add-fac8-4790-b1dd-0aa8a35f3699",
   "metadata": {},
   "source": []
  },
  {
   "cell_type": "code",
   "execution_count": null,
   "id": "8e4a0202-2892-4641-b912-c74d4cfc962f",
   "metadata": {},
   "outputs": [
    {
     "name": "stdout",
     "output_type": "stream",
     "text": [
      "Welcome to Smartphone FAQ Chatbot! Type 'exit' to quit.\n",
      "\n"
     ]
    },
    {
     "name": "stdin",
     "output_type": "stream",
     "text": [
      "You:  warenty?\n"
     ]
    },
    {
     "name": "stdout",
     "output_type": "stream",
     "text": [
      "Chatbot: The smartphone has a 4500mAh battery that supports fast charging.\n"
     ]
    },
    {
     "name": "stdin",
     "output_type": "stream",
     "text": [
      "You:  water resistancy?\n"
     ]
    },
    {
     "name": "stdout",
     "output_type": "stream",
     "text": [
      "Chatbot: Yes, it has an IP68 rating, making it water and dust resistant.\n"
     ]
    },
    {
     "name": "stdin",
     "output_type": "stream",
     "text": [
      "You:  conectivity?\n"
     ]
    },
    {
     "name": "stdout",
     "output_type": "stream",
     "text": [
      "Chatbot: The smartphone has a 4500mAh battery that supports fast charging.\n"
     ]
    }
   ],
   "source": [
    "# Step 1: Import libraries\n",
    "import nltk\n",
    "from nltk.corpus import stopwords\n",
    "from nltk.tokenize import TreebankWordTokenizer\n",
    "import string\n",
    "\n",
    "from sklearn.feature_extraction.text import TfidfVectorizer\n",
    "from sklearn.metrics.pairwise import cosine_similarity\n",
    "\n",
    "# Step 2: Download stopwords (run once)\n",
    "# nltk.download('stopwords')\n",
    "\n",
    "# Step 3: Define FAQ data\n",
    "faqs = [\n",
    "    {\"question\": \"What is the battery capacity of the smartphone?\",\n",
    "     \"answer\": \"The smartphone has a 4500mAh battery that supports fast charging.\"},\n",
    "\n",
    "    {\"question\": \"Does this phone support 5G connectivity?\",\n",
    "     \"answer\": \"Yes, this smartphone supports 5G networks for faster internet speeds.\"},\n",
    "\n",
    "    {\"question\": \"What is the warranty period for the phone?\",\n",
    "     \"answer\": \"The phone comes with a standard 1-year manufacturer warranty.\"},\n",
    "\n",
    "    {\"question\": \"Is the phone water-resistant?\",\n",
    "     \"answer\": \"Yes, it has an IP68 rating, making it water and dust resistant.\"},\n",
    "\n",
    "    {\"question\": \"Can I expand the storage with a microSD card?\",\n",
    "     \"answer\": \"No, this model does not support expandable storage via microSD.\"},\n",
    "\n",
    "    {\"question\": \"What operating system does the phone run?\",\n",
    "     \"answer\": \"It runs on the latest Android 13 operating system.\"},\n",
    "\n",
    "    {\"question\": \"Does the phone support wireless charging?\",\n",
    "     \"answer\": \"Yes, wireless charging is supported with compatible chargers.\"},\n",
    "\n",
    "    {\"question\": \"How many cameras does the phone have?\",\n",
    "     \"answer\": \"The phone features a quad-camera setup on the back and a single front camera.\"}\n",
    "]\n",
    "\n",
    "# Step 4: Preprocessing setup\n",
    "tokenizer = TreebankWordTokenizer()\n",
    "stop_words = set(stopwords.words('english'))\n",
    "\n",
    "def preprocess(text):\n",
    "    # Lowercase and tokenize\n",
    "    tokens = tokenizer.tokenize(text.lower())\n",
    "    # Remove stopwords and punctuation\n",
    "    filtered = [word for word in tokens if word not in stop_words and word not in string.punctuation]\n",
    "    return \" \".join(filtered)\n",
    "\n",
    "# Step 5: Preprocess FAQ questions\n",
    "processed_questions = [preprocess(faq['question']) for faq in faqs]\n",
    "\n",
    "# Step 6: Vectorize questions with TF-IDF\n",
    "vectorizer = TfidfVectorizer()\n",
    "tfidf_matrix = vectorizer.fit_transform(processed_questions)\n",
    "\n",
    "# Step 7: Function to find best matching FAQ answer\n",
    "def get_response(user_question):\n",
    "    user_processed = preprocess(user_question)\n",
    "    user_vec = vectorizer.transform([user_processed])\n",
    "    similarities = cosine_similarity(user_vec, tfidf_matrix)\n",
    "    best_idx = similarities.argmax()\n",
    "    return faqs[best_idx]['answer']\n",
    "\n",
    "# Step 8: Chat loop\n",
    "print(\"Welcome to Smartphone FAQ Chatbot! Type 'exit' to quit.\\n\")\n",
    "\n",
    "while True:\n",
    "    user_input = input(\"You: \")\n",
    "    if user_input.lower() == 'exit':\n",
    "        print(\"Chatbot: Goodbye!\")\n",
    "        break\n",
    "    answer = get_response(user_input)\n",
    "    print(\"Chatbot:\", answer)\n"
   ]
  },
  {
   "cell_type": "code",
   "execution_count": null,
   "id": "dd005322-6c64-46e6-bd99-f131b471ff81",
   "metadata": {},
   "outputs": [],
   "source": []
  }
 ],
 "metadata": {
  "kernelspec": {
   "display_name": "Python [conda env:base] *",
   "language": "python",
   "name": "conda-base-py"
  },
  "language_info": {
   "codemirror_mode": {
    "name": "ipython",
    "version": 3
   },
   "file_extension": ".py",
   "mimetype": "text/x-python",
   "name": "python",
   "nbconvert_exporter": "python",
   "pygments_lexer": "ipython3",
   "version": "3.12.7"
  }
 },
 "nbformat": 4,
 "nbformat_minor": 5
}
